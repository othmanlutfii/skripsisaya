{
 "cells": [
  {
   "cell_type": "code",
   "execution_count": 52,
   "metadata": {},
   "outputs": [],
   "source": [
    "\n",
    "import os\n",
    "from os import listdir\n",
    "from PIL import Image as Img\n",
    "from numpy import asarray\n",
    "from numpy import expand_dims\n",
    "from matplotlib import pyplot\n",
    "from keras.models import load_model\n",
    "import numpy as np\n",
    "import tensorflow as tf\n",
    "from keras_facenet import FaceNet\n",
    "from mtcnn.mtcnn import MTCNN\n",
    "\n",
    "import pickle\n",
    "import cv2\n"
   ]
  },
  {
   "cell_type": "code",
   "execution_count": 40,
   "metadata": {},
   "outputs": [],
   "source": [
    "#HaarCascade = cv2.CascadeClassifier('haarcascade_frontalface_default.xml')\n",
    "HaarCascade = cv2.CascadeClassifier(cv2.samples.findFile(cv2.data.haarcascades + 'haarcascade_frontalface_default.xml'))\n",
    "MyFaceNet = FaceNet()\n",
    "\n",
    "detector = MTCNN()\n",
    "\n"
   ]
  },
  {
   "cell_type": "code",
   "execution_count": 41,
   "metadata": {},
   "outputs": [],
   "source": [
    "# folder='fotoPeserta/'\n",
    "# database = {}\n",
    "\n",
    "# for filename in listdir(folder):\n",
    "\n",
    "#     path = folder + filename\n",
    "#     gbr1 = cv2.imread(folder + filename)\n",
    "    \n",
    "#     results = detector.detect_faces(gbr1)    \n",
    "#     if len(results)>0:\n",
    "#         x1, y1, width, height = results[0]['box']      \n",
    "#     else:\n",
    "#         x1, y1, width, height = 1, 1, 10, 10\n",
    "        \n",
    "#     x1, y1 = abs(x1), abs(y1)\n",
    "#     x2, y2 = x1 + width, y1 + height\n",
    "    \n",
    "#     gbr = cv2.cvtColor(gbr1, cv2.COLOR_BGR2RGB)\n",
    "#     gbr = Img.fromarray(gbr)                  # konversi dari OpenCV ke PIL\n",
    "#     gbr_array = asarray(gbr)\n",
    "    \n",
    "#     face = gbr_array[y1:y2, x1:x2]                        \n",
    "    \n",
    "#     face = Img.fromarray(face)                       \n",
    "#     face = face.resize((160,160))\n",
    "#     face = asarray(face)\n",
    "    \n",
    "    \n",
    "#     face = expand_dims(face, axis=0)\n",
    "#     signature = MyFaceNet.embeddings(face)\n",
    "    \n",
    "#     database[os.path.splitext(filename)[0]]=signature\n",
    "     \n"
   ]
  },
  {
   "cell_type": "code",
   "execution_count": 53,
   "metadata": {},
   "outputs": [
    {
     "name": "stdout",
     "output_type": "stream",
     "text": [
      "1/1 [==============================] - 0s 87ms/step\n",
      "1\n",
      "1/1 [==============================] - 0s 87ms/step\n",
      "2\n",
      "1/1 [==============================] - 0s 91ms/step\n",
      "3\n",
      "1/1 [==============================] - 0s 68ms/step\n",
      "4\n",
      "1/1 [==============================] - 0s 76ms/step\n",
      "5\n",
      "1/1 [==============================] - 0s 81ms/step\n",
      "6\n",
      "1/1 [==============================] - 0s 78ms/step\n",
      "7\n",
      "1/1 [==============================] - 0s 100ms/step\n",
      "8\n"
     ]
    }
   ],
   "source": [
    "folder='dataset/'\n",
    "database = {}\n",
    "a = 0\n",
    "for filename in os.listdir(folder):\n",
    "    filefolder = folder+filename+'/'\n",
    "    # print(filefolder)\n",
    "    for gambar in os.listdir(filefolder):\n",
    "        # print(gambar)\n",
    "        if gambar.startswith(\"1\")  :\n",
    "            pic_dir = filefolder+'/'+gambar\n",
    "            gbr1 = cv2.imread(pic_dir)\n",
    "            \n",
    "            wajah = HaarCascade.detectMultiScale(gbr1,1.1,4)   \n",
    "            if len(wajah)>0:\n",
    "                x1, y1, width, height = wajah[0]   \n",
    "            else:\n",
    "                x1, y1, width, height = 1, 1, 10, 10\n",
    "                \n",
    "            x1, y1 = abs(x1), abs(y1)\n",
    "            x2, y2 = x1 + width, y1 + height\n",
    "            \n",
    "            gbr = cv2.cvtColor(gbr1, cv2.COLOR_BGR2RGB)\n",
    "            gbr = Img.fromarray(gbr)                  # konversi dari OpenCV ke PIL\n",
    "            gbr_array = asarray(gbr)\n",
    "            \n",
    "            face = gbr_array[y1:y2, x1:x2]                        \n",
    "            \n",
    "            face = Img.fromarray(face)                       \n",
    "            face = face.resize((160,160))\n",
    "            face = asarray(face)\n",
    "            \n",
    "            \n",
    "            face = expand_dims(face, axis=0)\n",
    "            signature = MyFaceNet.embeddings(face)\n",
    "            \n",
    "            database[os.path.splitext(filename)[0]]=signature\n",
    "            a = a+1\n",
    "            print(a)\n",
    "\n"
   ]
  },
  {
   "cell_type": "code",
   "execution_count": 57,
   "metadata": {},
   "outputs": [
    {
     "name": "stdout",
     "output_type": "stream",
     "text": [
      "1/1 [==============================] - 0s 92ms/step\n",
      "1/1 [==============================] - 0s 69ms/step\n",
      "1/1 [==============================] - 0s 75ms/step\n",
      "1/1 [==============================] - 0s 66ms/step\n",
      "1/1 [==============================] - 0s 69ms/step\n",
      "1/1 [==============================] - 0s 67ms/step\n",
      "1/1 [==============================] - 0s 71ms/step\n",
      "1/1 [==============================] - 0s 71ms/step\n",
      "1/1 [==============================] - 0s 70ms/step\n",
      "1/1 [==============================] - 0s 79ms/step\n",
      "1/1 [==============================] - 0s 70ms/step\n",
      "1/1 [==============================] - 0s 72ms/step\n",
      "1/1 [==============================] - 0s 76ms/step\n",
      "1/1 [==============================] - 0s 75ms/step\n",
      "1/1 [==============================] - 0s 75ms/step\n",
      "1/1 [==============================] - 0s 71ms/step\n",
      "1/1 [==============================] - 0s 70ms/step\n",
      "1/1 [==============================] - 0s 74ms/step\n",
      "1/1 [==============================] - 0s 82ms/step\n",
      "1/1 [==============================] - 0s 78ms/step\n",
      "1/1 [==============================] - 0s 73ms/step\n",
      "1/1 [==============================] - 0s 79ms/step\n",
      "1/1 [==============================] - 0s 78ms/step\n",
      "1/1 [==============================] - 0s 75ms/step\n",
      "1/1 [==============================] - 0s 67ms/step\n",
      "1/1 [==============================] - 0s 77ms/step\n",
      "1/1 [==============================] - 0s 110ms/step\n",
      "1/1 [==============================] - 0s 66ms/step\n",
      "1/1 [==============================] - 0s 72ms/step\n",
      "1/1 [==============================] - 0s 74ms/step\n",
      "1/1 [==============================] - 0s 72ms/step\n",
      "1/1 [==============================] - 0s 70ms/step\n",
      "[0.8597006, 0.8718177, 0.56533283, 0.46919432, 1.3628079, 0.7846029, 0.52376026, 0.5347444, 0.57529944, 0.72339875, 1.1786572, 0.56846076, 0.73039556, 0.68955976, 0.5928861, 0.6093283, 0.5332693, 1.3949307, 0.67962044, 0.6496138, 0.4544386, 0.7320898, 0.5766919, 0.59278274, 0.8879444, 0.8529942, 0.92825973, 0.9734133, 0.973148, 0.83868724, 0.7991082, 0.955009] ['jenna_ortega', 'jenna_ortega', 'jenna_ortega', 'jenna_ortega', 'jenna_ortega', 'jenna_ortega', 'jenna_ortega', 'jenna_ortega', 'robert_downey', 'robert_downey', 'robert_downey', 'robert_downey', 'robert_downey', 'robert_downey', 'robert_downey', 'robert_downey', 'sardor_abdirayimov', 'sardor_abdirayimov', 'sardor_abdirayimov', 'sardor_abdirayimov', 'sardor_abdirayimov', 'sardor_abdirayimov', 'sardor_abdirayimov', 'sardor_abdirayimov', 'taylor_swift', 'taylor_swift', 'taylor_swift', 'taylor_swift', 'taylor_swift', 'taylor_swift', 'taylor_swift', 'taylor_swift']\n",
      "[1.254919, 1.3935646, 1.4131925, 1.40183, 1.4512256, 1.3641653, 1.326071, 1.4172204, 1.4675536, 1.2503923, 1.5126988, 1.5447098, 1.5315055, 1.3972256, 1.345432, 1.3742298, 1.4027512, 1.5315745, 1.2799474, 1.4708825, 1.4513127, 1.2620083, 1.4512986, 1.5867518, 1.3351946, 1.3927897, 1.4759531, 1.2831249, 1.5479416, 1.5147393, 1.3382324, 1.454871, 1.479592, 1.3064314, 1.4536108, 1.5260948, 1.3495063, 1.4348792, 1.5224878, 1.3704153, 1.4999212, 1.4902614, 1.3596786, 1.5033313, 1.4642094, 1.2957257, 1.5232844, 1.5077579, 1.4479314, 1.4888831, 1.3612468, 1.3761401, 1.5856979, 1.3462687, 1.4710002, 1.4087377, 1.4256228, 1.4204297, 1.3960646, 1.388167, 1.481066, 1.4277546, 1.415096, 1.537596, 1.4105642, 1.4174949, 1.4766383, 1.4368861, 1.4186772, 1.4058405, 1.4458846, 1.4187126, 1.5841998, 1.5722067, 1.372069, 1.4980161, 1.601898, 1.356502, 1.6075732, 1.4605554, 1.3927053, 1.5577892, 1.4220462, 1.3797091, 1.6295705, 1.5740753, 1.3519164, 1.5533931, 1.5055139, 1.2436739, 1.3880768, 1.4920968, 1.3900491, 1.5244099, 1.4655368, 1.4749197] ['robert_downey', 'sardor_abdirayimov', 'taylor_swift', 'robert_downey', 'sardor_abdirayimov', 'taylor_swift', 'robert_downey', 'sardor_abdirayimov', 'taylor_swift', 'robert_downey', 'sardor_abdirayimov', 'taylor_swift', 'robert_downey', 'sardor_abdirayimov', 'taylor_swift', 'robert_downey', 'sardor_abdirayimov', 'taylor_swift', 'robert_downey', 'sardor_abdirayimov', 'taylor_swift', 'robert_downey', 'sardor_abdirayimov', 'taylor_swift', 'jenna_ortega', 'sardor_abdirayimov', 'taylor_swift', 'jenna_ortega', 'sardor_abdirayimov', 'taylor_swift', 'jenna_ortega', 'sardor_abdirayimov', 'taylor_swift', 'jenna_ortega', 'sardor_abdirayimov', 'taylor_swift', 'jenna_ortega', 'sardor_abdirayimov', 'taylor_swift', 'jenna_ortega', 'sardor_abdirayimov', 'taylor_swift', 'jenna_ortega', 'sardor_abdirayimov', 'taylor_swift', 'jenna_ortega', 'sardor_abdirayimov', 'taylor_swift', 'jenna_ortega', 'robert_downey', 'taylor_swift', 'jenna_ortega', 'robert_downey', 'taylor_swift', 'jenna_ortega', 'robert_downey', 'taylor_swift', 'jenna_ortega', 'robert_downey', 'taylor_swift', 'jenna_ortega', 'robert_downey', 'taylor_swift', 'jenna_ortega', 'robert_downey', 'taylor_swift', 'jenna_ortega', 'robert_downey', 'taylor_swift', 'jenna_ortega', 'robert_downey', 'taylor_swift', 'jenna_ortega', 'robert_downey', 'sardor_abdirayimov', 'jenna_ortega', 'robert_downey', 'sardor_abdirayimov', 'jenna_ortega', 'robert_downey', 'sardor_abdirayimov', 'jenna_ortega', 'robert_downey', 'sardor_abdirayimov', 'jenna_ortega', 'robert_downey', 'sardor_abdirayimov', 'jenna_ortega', 'robert_downey', 'sardor_abdirayimov', 'jenna_ortega', 'robert_downey', 'sardor_abdirayimov', 'jenna_ortega', 'robert_downey', 'sardor_abdirayimov'] ['jenna_ortega', 'jenna_ortega', 'jenna_ortega', 'jenna_ortega', 'jenna_ortega', 'jenna_ortega', 'jenna_ortega', 'jenna_ortega', 'jenna_ortega', 'jenna_ortega', 'jenna_ortega', 'jenna_ortega', 'jenna_ortega', 'jenna_ortega', 'jenna_ortega', 'jenna_ortega', 'jenna_ortega', 'jenna_ortega', 'jenna_ortega', 'jenna_ortega', 'jenna_ortega', 'jenna_ortega', 'jenna_ortega', 'jenna_ortega', 'robert_downey', 'robert_downey', 'robert_downey', 'robert_downey', 'robert_downey', 'robert_downey', 'robert_downey', 'robert_downey', 'robert_downey', 'robert_downey', 'robert_downey', 'robert_downey', 'robert_downey', 'robert_downey', 'robert_downey', 'robert_downey', 'robert_downey', 'robert_downey', 'robert_downey', 'robert_downey', 'robert_downey', 'robert_downey', 'robert_downey', 'robert_downey', 'sardor_abdirayimov', 'sardor_abdirayimov', 'sardor_abdirayimov', 'sardor_abdirayimov', 'sardor_abdirayimov', 'sardor_abdirayimov', 'sardor_abdirayimov', 'sardor_abdirayimov', 'sardor_abdirayimov', 'sardor_abdirayimov', 'sardor_abdirayimov', 'sardor_abdirayimov', 'sardor_abdirayimov', 'sardor_abdirayimov', 'sardor_abdirayimov', 'sardor_abdirayimov', 'sardor_abdirayimov', 'sardor_abdirayimov', 'sardor_abdirayimov', 'sardor_abdirayimov', 'sardor_abdirayimov', 'sardor_abdirayimov', 'sardor_abdirayimov', 'sardor_abdirayimov', 'taylor_swift', 'taylor_swift', 'taylor_swift', 'taylor_swift', 'taylor_swift', 'taylor_swift', 'taylor_swift', 'taylor_swift', 'taylor_swift', 'taylor_swift', 'taylor_swift', 'taylor_swift', 'taylor_swift', 'taylor_swift', 'taylor_swift', 'taylor_swift', 'taylor_swift', 'taylor_swift', 'taylor_swift', 'taylor_swift', 'taylor_swift', 'taylor_swift', 'taylor_swift', 'taylor_swift']\n"
     ]
    }
   ],
   "source": [
    "des = []\n",
    "dis = []\n",
    "\n",
    "des1 = []\n",
    "dis1 = []\n",
    "des2 = []\n",
    "for filename in os.listdir(folder):\n",
    "    filefolder = folder+filename+'/'\n",
    "    # print(filefolder)\n",
    "    for gambar in os.listdir(filefolder):\n",
    "        # print(gambar)\n",
    "        if not gambar.startswith(\"1\"):\n",
    "\n",
    "            pic_dir = filefolder+'/'+gambar\n",
    "            gbr1 = cv2.imread(pic_dir)\n",
    "\n",
    "            wajah = HaarCascade.detectMultiScale(gbr1,1.1,4)\n",
    "    \n",
    "            if len(wajah)>0:\n",
    "                x1, y1, width, height = wajah[0]        \n",
    "            else:\n",
    "                x1, y1, width, height = 1, 1, 10, 10\n",
    "            \n",
    "            x1, y1 = abs(x1), abs(y1)\n",
    "            x2, y2 = x1 + width, y1 + height\n",
    "            \n",
    "            \n",
    "            gbr = cv2.cvtColor(gbr1, cv2.COLOR_BGR2RGB)\n",
    "            gbr = Img.fromarray(gbr)                  # konversi dari OpenCV ke PIL\n",
    "            gbr_array = asarray(gbr)\n",
    "            \n",
    "            face = gbr_array[y1:y2, x1:x2] \n",
    "\n",
    "            face = Img.fromarray(face)                       \n",
    "            face = face.resize((160,160))\n",
    "            face = asarray(face)\n",
    "            \n",
    "\n",
    "            \n",
    "            face = expand_dims(face, axis=0)\n",
    "            signature = MyFaceNet.embeddings(face)\n",
    "            \n",
    "            min_dist=100\n",
    "            identity=' '\n",
    "            for key, value in database.items() :\n",
    "                dist = np.linalg.norm(value-signature)\n",
    "\n",
    "                if filename == key:\n",
    "                    des.append(key)\n",
    "                    dis.append(dist)\n",
    "\n",
    "                elif filename != key:\n",
    "                    des1.append(key)\n",
    "                    des2.append(filename)\n",
    "                    dis1.append(dist)\n",
    "\n",
    "                    \n",
    "\n",
    "\n",
    "print(dis,des)\n",
    "print(dis1,des1,des2)\n",
    "\n",
    "\n",
    "\n",
    "\n",
    "\n",
    "\n"
   ]
  },
  {
   "cell_type": "code",
   "execution_count": 59,
   "metadata": {},
   "outputs": [
    {
     "data": {
      "text/plain": [
       "['jenna_ortega',\n",
       " 'jenna_ortega',\n",
       " 'jenna_ortega',\n",
       " 'jenna_ortega',\n",
       " 'jenna_ortega',\n",
       " 'jenna_ortega',\n",
       " 'jenna_ortega',\n",
       " 'jenna_ortega',\n",
       " 'robert_downey',\n",
       " 'robert_downey',\n",
       " 'robert_downey',\n",
       " 'robert_downey',\n",
       " 'robert_downey',\n",
       " 'robert_downey',\n",
       " 'robert_downey',\n",
       " 'robert_downey',\n",
       " 'sardor_abdirayimov',\n",
       " 'sardor_abdirayimov',\n",
       " 'sardor_abdirayimov',\n",
       " 'sardor_abdirayimov',\n",
       " 'sardor_abdirayimov',\n",
       " 'sardor_abdirayimov',\n",
       " 'sardor_abdirayimov',\n",
       " 'sardor_abdirayimov',\n",
       " 'taylor_swift',\n",
       " 'taylor_swift',\n",
       " 'taylor_swift',\n",
       " 'taylor_swift',\n",
       " 'taylor_swift',\n",
       " 'taylor_swift',\n",
       " 'taylor_swift',\n",
       " 'taylor_swift']"
      ]
     },
     "execution_count": 59,
     "metadata": {},
     "output_type": "execute_result"
    }
   ],
   "source": [
    "des"
   ]
  },
  {
   "cell_type": "code",
   "execution_count": 60,
   "metadata": {},
   "outputs": [
    {
     "data": {
      "text/plain": [
       "(0.4544386, 1.3949307, 0.7644358780235052)"
      ]
     },
     "execution_count": 60,
     "metadata": {},
     "output_type": "execute_result"
    }
   ],
   "source": [
    "def list_stats(data):\n",
    "    \"\"\"\n",
    "    This function calculates the minimum, maximum, and average of a list.\n",
    "\n",
    "    Args:\n",
    "        data: A list of numbers.\n",
    "\n",
    "    Returns:\n",
    "        A tuple containing the minimum, maximum, and average of the list.\n",
    "    \"\"\"\n",
    "\n",
    "    if not data:\n",
    "        raise ValueError(\"Empty list provided.\")\n",
    "\n",
    "    min_value = min(data)\n",
    "    max_value = max(data)\n",
    "    average = sum(data) / len(data)\n",
    "\n",
    "    return min_value, max_value, average\n",
    "\n",
    "list_stats(dis)\n"
   ]
  },
  {
   "cell_type": "code",
   "execution_count": 64,
   "metadata": {},
   "outputs": [
    {
     "data": {
      "text/plain": [
       "[0.8597006,\n",
       " 0.8718177,\n",
       " 1.3628079,\n",
       " 0.7846029,\n",
       " 1.1786572,\n",
       " 1.3949307,\n",
       " 0.8879444,\n",
       " 0.8529942,\n",
       " 0.92825973,\n",
       " 0.9734133,\n",
       " 0.973148,\n",
       " 0.83868724,\n",
       " 0.7991082,\n",
       " 0.955009]"
      ]
     },
     "execution_count": 64,
     "metadata": {},
     "output_type": "execute_result"
    }
   ],
   "source": [
    "filtered_data = [item for item in dis if item > 0.764]\n",
    "filtered_data"
   ]
  },
  {
   "cell_type": "code",
   "execution_count": 61,
   "metadata": {},
   "outputs": [
    {
     "data": {
      "text/plain": [
       "(1.2436739, 1.6295705, 1.4387437552213669)"
      ]
     },
     "execution_count": 61,
     "metadata": {},
     "output_type": "execute_result"
    }
   ],
   "source": [
    "list_stats(dis1)\n"
   ]
  },
  {
   "cell_type": "code",
   "execution_count": null,
   "metadata": {},
   "outputs": [],
   "source": [
    "list_stats"
   ]
  },
  {
   "cell_type": "code",
   "execution_count": 45,
   "metadata": {},
   "outputs": [],
   "source": [
    "myfile = open(\"data.pkl\", \"wb\")\n",
    "pickle.dump(database, myfile)\n",
    "myfile.close()"
   ]
  },
  {
   "cell_type": "code",
   "execution_count": 11,
   "metadata": {},
   "outputs": [],
   "source": [
    "myfile = open(\"data.pkl\", \"rb\")\n",
    "database = pickle.load(myfile)\n",
    "myfile.close()"
   ]
  },
  {
   "cell_type": "code",
   "execution_count": 12,
   "metadata": {},
   "outputs": [],
   "source": [
    "import cv2\n",
    "import numpy as np\n",
    "\n",
    "# Inisialisasi deteksi wajah dengan OpenCV\n",
    "face_cascade = cv2.CascadeClassifier(cv2.data.haarcascades + 'haarcascade_frontalface_default.xml')\n",
    "\n",
    "# Fungsi untuk mendeteksi wajah dan menghitung perubahan warna kulit\n",
    "def detect_liveness(frame):\n",
    "    # Konversi frame ke skala abu-abu\n",
    "    gray = cv2.cvtColor(frame, cv2.COLOR_BGR2GRAY)\n",
    "\n",
    "    # Deteksi wajah\n",
    "    faces = face_cascade.detectMultiScale(gray, scaleFactor=1.1, minNeighbors=5, minSize=(30, 30))\n",
    "\n",
    "    # Jika wajah tidak terdeteksi, anggap sebagai wajah mati\n",
    "    if len(faces) == 0:\n",
    "        return \"Wajah Mati\"\n",
    "\n",
    "    # Ambil ROI (Region of Interest) dari wajah pertama yang terdeteksi\n",
    "    x, y, w, h = faces[0]\n",
    "    roi = frame[y:y+h, x:x+w]\n",
    "\n",
    "    # Hitung rata-rata perubahan warna kulit di ROI\n",
    "    avg_skin_color = np.mean(roi, axis=(0, 1))\n",
    "\n",
    "    # Jika perubahan warna kulit di atas ambang tertentu, anggap sebagai wajah hidup\n",
    "    if avg_skin_color[0] > 80 and avg_skin_color[1] > 50 and avg_skin_color[2] > 20:\n",
    "        return \"Wajah Hidup\"\n",
    "    else:\n",
    "        return \"Wajah Mati\"\n",
    "\n",
    "# Buka webcam\n",
    "cap = cv2.VideoCapture(0)\n",
    "\n",
    "while True:\n",
    "    ret, frame = cap.read()\n",
    "\n",
    "    if not ret:\n",
    "        break\n",
    "\n",
    "    # Deteksi liveness\n",
    "    result = detect_liveness(frame)\n",
    "\n",
    "    # Tampilkan hasil di layar\n",
    "    cv2.putText(frame, result, (20, 50), cv2.FONT_HERSHEY_SIMPLEX, 1, (0, 255, 0), 2)\n",
    "    cv2.imshow('Liveness Detection', frame)\n",
    "\n",
    "    # Keluar dari loop jika tombol 'q' ditekan\n",
    "    if cv2.waitKey(1) & 0xFF == ord('q'):\n",
    "        break\n",
    "\n",
    "# Tutup webcam dan jendela tampilan\n",
    "cap.release()\n",
    "cv2.destroyAllWindows()\n"
   ]
  },
  {
   "cell_type": "code",
   "execution_count": null,
   "metadata": {},
   "outputs": [],
   "source": []
  }
 ],
 "metadata": {
  "kernelspec": {
   "display_name": "Python 3",
   "language": "python",
   "name": "python3"
  },
  "language_info": {
   "codemirror_mode": {
    "name": "ipython",
    "version": 3
   },
   "file_extension": ".py",
   "mimetype": "text/x-python",
   "name": "python",
   "nbconvert_exporter": "python",
   "pygments_lexer": "ipython3",
   "version": "3.8.10"
  }
 },
 "nbformat": 4,
 "nbformat_minor": 2
}
